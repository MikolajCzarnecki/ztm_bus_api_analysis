{
 "cells": [
  {
   "cell_type": "code",
   "execution_count": 421,
   "id": "117785fa-9f34-4fc6-bba1-9e8c500bf386",
   "metadata": {},
   "outputs": [],
   "source": [
    "import requests\n",
    "import time\n",
    "import pandas as pd\n",
    "import datetime as dt\n",
    "from math import fabs, sqrt\n",
    "import copy\n",
    "import matplotlib.pyplot as plt\n",
    "import numpy as np\n",
    "\n",
    "from analyzer.bus_data import Bus_data as bd\n",
    "from analyzer.utils.utils import filter_still"
   ]
  },
  {
   "cell_type": "markdown",
   "id": "f31a4987-ba50-41fc-9538-226564b77fc9",
   "metadata": {},
   "source": [
    "#### Funkcje pomocnicze:"
   ]
  },
  {
   "cell_type": "code",
   "execution_count": 423,
   "id": "db3b488d-9246-4b39-a41c-9a08f00c4be3",
   "metadata": {},
   "outputs": [],
   "source": [
    "def get_dist(xdiff, ydiff) -> float:\n",
    "    dist = sqrt(fabs(xdiff)**2 + fabs(ydiff)**2)\n",
    "    return dist\n",
    "\n",
    "def close(x1, y1, x2, y2) -> bool:\n",
    "    delta = get_dist(x2 - x1, y2 - y1)\n",
    "    return delta < 0.001\n",
    "\n",
    "def far(x1, y1, x2, y2) -> bool:\n",
    "    delta = get_dist(x2 - x1, y2 - y1)\n",
    "    return delta < 0.01 and not close(x1, y1, x2, y2)\n",
    "\n",
    "def timedatas_close(time1, time2, tolerance) -> bool:\n",
    "    for time in time1: \n",
    "        delta_time = fabs((time - time2).total_seconds())\n",
    "        if delta_time <= tolerance:\n",
    "            return True\n",
    "    return False\n",
    "\n",
    "def fix_date(strr):\n",
    "    splitlist = strr.split(':')\n",
    "    splitlist[0] = str(int(splitlist[0]) % 24)\n",
    "    \n",
    "    separator = ':'\n",
    "    result = separator.join(splitlist)\n",
    "    \n",
    "    return result\n",
    "\n",
    "err_str = 'Błędna metoda lub parametry wywołania'"
   ]
  },
  {
   "cell_type": "markdown",
   "id": "d76683e3-750c-4fdf-8e30-9bf3a784b967",
   "metadata": {},
   "source": [
    "#### Dane autobusow z 00:30"
   ]
  },
  {
   "cell_type": "code",
   "execution_count": 2,
   "id": "bd435ddd-5c7a-4031-ab18-1da322f45369",
   "metadata": {},
   "outputs": [],
   "source": [
    "data = bd('data_0030__25_2_2024.csv')"
   ]
  },
  {
   "cell_type": "code",
   "execution_count": 407,
   "id": "516686da-d44c-4c54-a765-b091848daf34",
   "metadata": {},
   "outputs": [
    {
     "data": {
      "text/html": [
       "<div>\n",
       "<style scoped>\n",
       "    .dataframe tbody tr th:only-of-type {\n",
       "        vertical-align: middle;\n",
       "    }\n",
       "\n",
       "    .dataframe tbody tr th {\n",
       "        vertical-align: top;\n",
       "    }\n",
       "\n",
       "    .dataframe thead th {\n",
       "        text-align: right;\n",
       "    }\n",
       "</style>\n",
       "<table border=\"1\" class=\"dataframe\">\n",
       "  <thead>\n",
       "    <tr style=\"text-align: right;\">\n",
       "      <th></th>\n",
       "      <th>VehicleNumber</th>\n",
       "      <th>Time</th>\n",
       "      <th>Longitude</th>\n",
       "      <th>Lattitude</th>\n",
       "      <th>Line</th>\n",
       "      <th>converted_lon</th>\n",
       "      <th>converted_lat</th>\n",
       "      <th>time_diff</th>\n",
       "      <th>lon_diff</th>\n",
       "      <th>lat_diff</th>\n",
       "      <th>delta_dist</th>\n",
       "      <th>velocity</th>\n",
       "    </tr>\n",
       "  </thead>\n",
       "  <tbody>\n",
       "    <tr>\n",
       "      <th>1246</th>\n",
       "      <td>7711</td>\n",
       "      <td>2024-02-25 00:31:51</td>\n",
       "      <td>20.920336</td>\n",
       "      <td>52.196266</td>\n",
       "      <td>189</td>\n",
       "      <td>2326.341363</td>\n",
       "      <td>3573.356370</td>\n",
       "      <td>20</td>\n",
       "      <td>-0.002402</td>\n",
       "      <td>0.010023</td>\n",
       "      <td>0.010306</td>\n",
       "      <td>1.855141</td>\n",
       "    </tr>\n",
       "    <tr>\n",
       "      <th>909</th>\n",
       "      <td>9422</td>\n",
       "      <td>2024-02-25 00:32:10</td>\n",
       "      <td>20.995295</td>\n",
       "      <td>52.321980</td>\n",
       "      <td>N64</td>\n",
       "      <td>2334.676804</td>\n",
       "      <td>3581.962751</td>\n",
       "      <td>60</td>\n",
       "      <td>-0.298794</td>\n",
       "      <td>0.248921</td>\n",
       "      <td>0.388895</td>\n",
       "      <td>23.333717</td>\n",
       "    </tr>\n",
       "    <tr>\n",
       "      <th>1020</th>\n",
       "      <td>9951</td>\n",
       "      <td>2024-02-25 00:32:20</td>\n",
       "      <td>20.900522</td>\n",
       "      <td>52.296844</td>\n",
       "      <td>190</td>\n",
       "      <td>2324.138046</td>\n",
       "      <td>3580.241940</td>\n",
       "      <td>60</td>\n",
       "      <td>-0.815986</td>\n",
       "      <td>-0.600189</td>\n",
       "      <td>1.012946</td>\n",
       "      <td>60.776746</td>\n",
       "    </tr>\n",
       "    <tr>\n",
       "      <th>673</th>\n",
       "      <td>5912</td>\n",
       "      <td>2024-02-25 00:32:20</td>\n",
       "      <td>21.116813</td>\n",
       "      <td>52.233973</td>\n",
       "      <td>116</td>\n",
       "      <td>2348.189628</td>\n",
       "      <td>3575.937771</td>\n",
       "      <td>39</td>\n",
       "      <td>0.025554</td>\n",
       "      <td>-0.011823</td>\n",
       "      <td>0.028156</td>\n",
       "      <td>2.599046</td>\n",
       "    </tr>\n",
       "    <tr>\n",
       "      <th>733</th>\n",
       "      <td>750</td>\n",
       "      <td>2024-02-25 00:32:22</td>\n",
       "      <td>20.864601</td>\n",
       "      <td>52.360210</td>\n",
       "      <td>250</td>\n",
       "      <td>2320.143631</td>\n",
       "      <td>3584.579977</td>\n",
       "      <td>50</td>\n",
       "      <td>-0.015123</td>\n",
       "      <td>0.006230</td>\n",
       "      <td>0.016356</td>\n",
       "      <td>1.177640</td>\n",
       "    </tr>\n",
       "    <tr>\n",
       "      <th>...</th>\n",
       "      <td>...</td>\n",
       "      <td>...</td>\n",
       "      <td>...</td>\n",
       "      <td>...</td>\n",
       "      <td>...</td>\n",
       "      <td>...</td>\n",
       "      <td>...</td>\n",
       "      <td>...</td>\n",
       "      <td>...</td>\n",
       "      <td>...</td>\n",
       "      <td>...</td>\n",
       "      <td>...</td>\n",
       "    </tr>\n",
       "    <tr>\n",
       "      <th>9364</th>\n",
       "      <td>5441</td>\n",
       "      <td>2024-02-25 01:06:25</td>\n",
       "      <td>20.971487</td>\n",
       "      <td>52.272144</td>\n",
       "      <td>N63</td>\n",
       "      <td>2332.029354</td>\n",
       "      <td>3578.550978</td>\n",
       "      <td>127</td>\n",
       "      <td>-0.630393</td>\n",
       "      <td>0.380227</td>\n",
       "      <td>0.736184</td>\n",
       "      <td>20.868220</td>\n",
       "    </tr>\n",
       "    <tr>\n",
       "      <th>9365</th>\n",
       "      <td>5446</td>\n",
       "      <td>2024-02-25 01:06:25</td>\n",
       "      <td>20.953445</td>\n",
       "      <td>52.238313</td>\n",
       "      <td>N43</td>\n",
       "      <td>2330.023106</td>\n",
       "      <td>3576.234908</td>\n",
       "      <td>127</td>\n",
       "      <td>-0.321346</td>\n",
       "      <td>0.400696</td>\n",
       "      <td>0.513635</td>\n",
       "      <td>14.559726</td>\n",
       "    </tr>\n",
       "    <tr>\n",
       "      <th>9387</th>\n",
       "      <td>6244</td>\n",
       "      <td>2024-02-25 01:06:25</td>\n",
       "      <td>20.921743</td>\n",
       "      <td>52.196841</td>\n",
       "      <td>713</td>\n",
       "      <td>2326.497810</td>\n",
       "      <td>3573.395769</td>\n",
       "      <td>127</td>\n",
       "      <td>-0.167745</td>\n",
       "      <td>0.020853</td>\n",
       "      <td>0.169036</td>\n",
       "      <td>4.791582</td>\n",
       "    </tr>\n",
       "    <tr>\n",
       "      <th>9280</th>\n",
       "      <td>1411</td>\n",
       "      <td>2024-02-25 01:06:25</td>\n",
       "      <td>21.004101</td>\n",
       "      <td>52.229645</td>\n",
       "      <td>N21</td>\n",
       "      <td>2335.656031</td>\n",
       "      <td>3575.641497</td>\n",
       "      <td>127</td>\n",
       "      <td>0.249310</td>\n",
       "      <td>0.032649</td>\n",
       "      <td>0.251439</td>\n",
       "      <td>7.127407</td>\n",
       "    </tr>\n",
       "    <tr>\n",
       "      <th>9577</th>\n",
       "      <td>9812</td>\n",
       "      <td>2024-02-25 01:06:25</td>\n",
       "      <td>21.004120</td>\n",
       "      <td>52.234314</td>\n",
       "      <td>N32</td>\n",
       "      <td>2335.658144</td>\n",
       "      <td>3575.961136</td>\n",
       "      <td>132</td>\n",
       "      <td>-0.116226</td>\n",
       "      <td>0.316491</td>\n",
       "      <td>0.337157</td>\n",
       "      <td>9.195190</td>\n",
       "    </tr>\n",
       "  </tbody>\n",
       "</table>\n",
       "<p>2811 rows × 12 columns</p>\n",
       "</div>"
      ],
      "text/plain": [
       "      VehicleNumber                Time  Longitude  Lattitude Line  \\\n",
       "1246           7711 2024-02-25 00:31:51  20.920336  52.196266  189   \n",
       "909            9422 2024-02-25 00:32:10  20.995295  52.321980  N64   \n",
       "1020           9951 2024-02-25 00:32:20  20.900522  52.296844  190   \n",
       "673            5912 2024-02-25 00:32:20  21.116813  52.233973  116   \n",
       "733             750 2024-02-25 00:32:22  20.864601  52.360210  250   \n",
       "...             ...                 ...        ...        ...  ...   \n",
       "9364           5441 2024-02-25 01:06:25  20.971487  52.272144  N63   \n",
       "9365           5446 2024-02-25 01:06:25  20.953445  52.238313  N43   \n",
       "9387           6244 2024-02-25 01:06:25  20.921743  52.196841  713   \n",
       "9280           1411 2024-02-25 01:06:25  21.004101  52.229645  N21   \n",
       "9577           9812 2024-02-25 01:06:25  21.004120  52.234314  N32   \n",
       "\n",
       "      converted_lon  converted_lat  time_diff  lon_diff  lat_diff  delta_dist  \\\n",
       "1246    2326.341363    3573.356370         20 -0.002402  0.010023    0.010306   \n",
       "909     2334.676804    3581.962751         60 -0.298794  0.248921    0.388895   \n",
       "1020    2324.138046    3580.241940         60 -0.815986 -0.600189    1.012946   \n",
       "673     2348.189628    3575.937771         39  0.025554 -0.011823    0.028156   \n",
       "733     2320.143631    3584.579977         50 -0.015123  0.006230    0.016356   \n",
       "...             ...            ...        ...       ...       ...         ...   \n",
       "9364    2332.029354    3578.550978        127 -0.630393  0.380227    0.736184   \n",
       "9365    2330.023106    3576.234908        127 -0.321346  0.400696    0.513635   \n",
       "9387    2326.497810    3573.395769        127 -0.167745  0.020853    0.169036   \n",
       "9280    2335.656031    3575.641497        127  0.249310  0.032649    0.251439   \n",
       "9577    2335.658144    3575.961136        132 -0.116226  0.316491    0.337157   \n",
       "\n",
       "       velocity  \n",
       "1246   1.855141  \n",
       "909   23.333717  \n",
       "1020  60.776746  \n",
       "673    2.599046  \n",
       "733    1.177640  \n",
       "...         ...  \n",
       "9364  20.868220  \n",
       "9365  14.559726  \n",
       "9387   4.791582  \n",
       "9280   7.127407  \n",
       "9577   9.195190  \n",
       "\n",
       "[2811 rows x 12 columns]"
      ]
     },
     "execution_count": 407,
     "metadata": {},
     "output_type": "execute_result"
    }
   ],
   "source": [
    "realistic_speed = data.too_fast(0,80)\n",
    "realistic_speed = realistic_speed[realistic_speed.apply(filter_still, axis=1)]\n",
    "realistic_speed[realistic_speed['velocity'] > 1]"
   ]
  },
  {
   "cell_type": "code",
   "execution_count": 5,
   "id": "82585b0a-aca1-4486-9742-438e46745035",
   "metadata": {},
   "outputs": [],
   "source": [
    "different_lines = realistic_speed.groupby('Line')['VehicleNumber'].nunique()\n"
   ]
  },
  {
   "cell_type": "markdown",
   "id": "a8fd5aed-8541-4896-86c3-8e76dad359f7",
   "metadata": {
    "jp-MarkdownHeadingCollapsed": true
   },
   "source": [
    "#### Testowe odebranie info o rozkladzie"
   ]
  },
  {
   "cell_type": "code",
   "execution_count": 341,
   "id": "4b3c53d4-3663-4637-bfcd-db1c4ce4d6b1",
   "metadata": {},
   "outputs": [],
   "source": [
    "my_key = 'f7bce48b-6a00-4b56-879e-28f6cd90ec89'\n",
    "resource_id = \"e923fa0e-d96c-43f9-ae6e-60518c9f3238\"\n",
    "busstopNr = '02'\n",
    "busstopId='4051'\n",
    "line = 'N35'\n",
    "payload = {'id' : resource_id, 'busstopId' : busstopId, 'busstopNr' : busstopNr, 'line' : line, 'apikey' : my_key}\n",
    "\n",
    "\n",
    "url = \"https://api.um.warszawa.pl/api/action/dbtimetable_get\"\n",
    "\n",
    "response = requests.get(url=url, params=payload)"
   ]
  },
  {
   "cell_type": "code",
   "execution_count": 342,
   "id": "fde2e705-73a3-422e-a497-c53540ca8249",
   "metadata": {},
   "outputs": [
    {
     "data": {
      "text/plain": [
       "{'result': [{'values': [{'value': 'null', 'key': 'symbol_2'},\n",
       "    {'value': 'null', 'key': 'symbol_1'},\n",
       "    {'value': '136', 'key': 'brygada'},\n",
       "    {'value': 'Ursus-Niedźwiadek', 'key': 'kierunek'},\n",
       "    {'value': 'TO-URN', 'key': 'trasa'},\n",
       "    {'value': '24:29:00', 'key': 'czas'}]},\n",
       "  {'values': [{'value': 'null', 'key': 'symbol_2'},\n",
       "    {'value': 'null', 'key': 'symbol_1'},\n",
       "    {'value': '237', 'key': 'brygada'},\n",
       "    {'value': 'Ursus-Niedźwiadek', 'key': 'kierunek'},\n",
       "    {'value': 'TO-URN', 'key': 'trasa'},\n",
       "    {'value': '25:29:00', 'key': 'czas'}]},\n",
       "  {'values': [{'value': 'null', 'key': 'symbol_2'},\n",
       "    {'value': 'null', 'key': 'symbol_1'},\n",
       "    {'value': '138', 'key': 'brygada'},\n",
       "    {'value': 'Ursus-Niedźwiadek', 'key': 'kierunek'},\n",
       "    {'value': 'TO-URN', 'key': 'trasa'},\n",
       "    {'value': '26:29:00', 'key': 'czas'}]},\n",
       "  {'values': [{'value': 'null', 'key': 'symbol_2'},\n",
       "    {'value': 'null', 'key': 'symbol_1'},\n",
       "    {'value': '101', 'key': 'brygada'},\n",
       "    {'value': 'Ursus-Niedźwiadek', 'key': 'kierunek'},\n",
       "    {'value': 'TO-URN', 'key': 'trasa'},\n",
       "    {'value': '27:29:00', 'key': 'czas'}]},\n",
       "  {'values': [{'value': 'null', 'key': 'symbol_2'},\n",
       "    {'value': 'null', 'key': 'symbol_1'},\n",
       "    {'value': '138', 'key': 'brygada'},\n",
       "    {'value': 'Ursus-Niedźwiadek', 'key': 'kierunek'},\n",
       "    {'value': 'TX-URN4', 'key': 'trasa'},\n",
       "    {'value': '27:59:00', 'key': 'czas'}]},\n",
       "  {'values': [{'value': 'null', 'key': 'symbol_2'},\n",
       "    {'value': 'null', 'key': 'symbol_1'},\n",
       "    {'value': '136', 'key': 'brygada'},\n",
       "    {'value': 'Ursus-Niedźwiadek', 'key': 'kierunek'},\n",
       "    {'value': 'TX-URN4', 'key': 'trasa'},\n",
       "    {'value': '28:29:00', 'key': 'czas'}]},\n",
       "  {'values': [{'value': 'null', 'key': 'symbol_2'},\n",
       "    {'value': 'null', 'key': 'symbol_1'},\n",
       "    {'value': '101', 'key': 'brygada'},\n",
       "    {'value': 'Ursus-Niedźwiadek', 'key': 'kierunek'},\n",
       "    {'value': 'TX-URN4', 'key': 'trasa'},\n",
       "    {'value': '28:59:00', 'key': 'czas'}]}]}"
      ]
     },
     "execution_count": 342,
     "metadata": {},
     "output_type": "execute_result"
    }
   ],
   "source": [
    "response.json()"
   ]
  },
  {
   "cell_type": "code",
   "execution_count": null,
   "id": "8a175f35-9297-4a0f-aa0b-e2e1e838ed50",
   "metadata": {},
   "outputs": [],
   "source": []
  },
  {
   "cell_type": "markdown",
   "id": "19990fc9-09d3-4377-bee4-2bccd3ddaccf",
   "metadata": {
    "jp-MarkdownHeadingCollapsed": true
   },
   "source": [
    "#### Zebranie rozkladow jazdy w slowniku"
   ]
  },
  {
   "cell_type": "code",
   "execution_count": 8,
   "id": "d0dac202-a22b-447d-9143-d931f68d13d2",
   "metadata": {},
   "outputs": [],
   "source": [
    "my_key = 'f7bce48b-6a00-4b56-879e-28f6cd90ec89'\n",
    "resource_id = \"b27f4c17-5c50-4a5b-89dd-236b282bc499\"\n",
    "busstopNr = '01'\n",
    "busstopId='7009'\n",
    "line=''\n",
    "\n",
    "payload = {'apikey' : my_key}\n",
    "\n",
    "\n",
    "url = \"https://api.um.warszawa.pl/api/action/public_transport_routes\"\n",
    "\n",
    "response_prz = requests.get(url=url, params=payload)"
   ]
  },
  {
   "cell_type": "code",
   "execution_count": 9,
   "id": "0e4b43f8-80f6-4ec1-b22b-93800e701c8d",
   "metadata": {},
   "outputs": [],
   "source": [
    "data_routes = response_prz.json()['result']"
   ]
  },
  {
   "cell_type": "code",
   "execution_count": 10,
   "id": "96b62486-86a6-4ace-b5e6-094b139550c4",
   "metadata": {},
   "outputs": [],
   "source": [
    "lines = dict()"
   ]
  },
  {
   "cell_type": "code",
   "execution_count": 361,
   "id": "65ae5d16-90f2-460c-8756-6cb84a3a2020",
   "metadata": {},
   "outputs": [
    {
     "name": "stdout",
     "output_type": "stream",
     "text": [
      "401 not in megadict\n",
      "402 not in megadict\n",
      "817 not in megadict\n",
      "E-2 not in megadict\n",
      "EX not in megadict\n"
     ]
    }
   ],
   "source": [
    "for line in different_lines.index:\n",
    "    lines[line] = dict()\n",
    "\n",
    "    if line in data_routes:\n",
    "        for name in data_routes[line]:\n",
    "            for bus_stop in data_routes[line][name]:\n",
    "                nr_zespolu = data_routes[line][name][bus_stop]['nr_zespolu']\n",
    "                \n",
    "                if nr_zespolu not in lines[line]:\n",
    "                    lines[line][nr_zespolu] = dict()\n",
    "                    lines[line][nr_zespolu]['id'] = dict()\n",
    "    \n",
    "                string = '0' + data_routes[line][name][bus_stop]['typ']\n",
    "                lines[line][nr_zespolu]['id'][string] = set()\n",
    "    else:\n",
    "        print(str(line) + \" not in megadict\")"
   ]
  },
  {
   "cell_type": "code",
   "execution_count": 363,
   "id": "f0ba4bbc-e34a-42cf-b0ae-103a60b99a03",
   "metadata": {},
   "outputs": [
    {
     "data": {
      "text/plain": [
       "{'4051': {'id': {'02': set()}},\n",
       " '4045': {'id': {'02': set()}},\n",
       " '4044': {'id': {'02': set()}},\n",
       " '4043': {'id': {'02': set()}},\n",
       " '4049': {'id': {'02': set()}},\n",
       " '4048': {'id': {'02': set()}},\n",
       " '4047': {'id': {'02': set()}},\n",
       " '4046': {'id': {'02': set()}},\n",
       " '4116': {'id': {'02': set()}},\n",
       " '4121': {'id': {'02': set()}},\n",
       " '4221': {'id': {'03': set(), '04': set()}},\n",
       " '4207': {'id': {'02': set()}},\n",
       " '4211': {'id': {'02': set()}},\n",
       " '4219': {'id': {'02': set()}},\n",
       " '4343': {'id': {'02': set()}},\n",
       " '4100': {'id': {'02': set()}},\n",
       " '4218': {'id': {'02': set()}},\n",
       " '4210': {'id': {'02': set()}},\n",
       " '4209': {'id': {'02': set()}},\n",
       " '4110': {'id': {'02': set()}},\n",
       " '4099': {'id': {'02': set()}},\n",
       " '4095': {'id': {'02': set()}},\n",
       " '4123': {'id': {'02': set()}},\n",
       " '4094': {'id': {'02': set()}},\n",
       " '4125': {'id': {'02': set()}},\n",
       " '4092': {'id': {'02': set()}},\n",
       " '4093': {'id': {'02': set()}},\n",
       " '4090': {'id': {'02': set()}},\n",
       " '4091': {'id': {'02': set()}},\n",
       " '4001': {'id': {'02': set()}},\n",
       " '4003': {'id': {'02': set()}},\n",
       " '7013': {'id': {'03': set(), '01': set()}},\n",
       " '7014': {'id': {'01': set()}},\n",
       " '7001': {'id': {'01': set()}},\n",
       " '7002': {'id': {'01': set()}},\n",
       " '4052': {'id': {'02': set()}},\n",
       " '4098': {'id': {'02': set()}},\n",
       " '4217': {'id': {'02': set()}},\n",
       " '4337': {'id': {'02': set()}},\n",
       " '4220': {'id': {'02': set()}},\n",
       " 'R-11': {'id': {'06': set()}}}"
      ]
     },
     "execution_count": 363,
     "metadata": {},
     "output_type": "execute_result"
    }
   ],
   "source": [
    "lines['N35']"
   ]
  },
  {
   "cell_type": "markdown",
   "id": "658b4752-dbe1-482a-80a9-8bbf6518cc02",
   "metadata": {
    "jp-MarkdownHeadingCollapsed": true
   },
   "source": [
    "#### Zebranie informacji o polozeniu przystankow"
   ]
  },
  {
   "cell_type": "code",
   "execution_count": 171,
   "id": "f2e14c73-be64-457a-a419-1fe2d579972e",
   "metadata": {},
   "outputs": [],
   "source": [
    "url = 'https://api.um.warszawa.pl/api/action/dbstore_get'\n",
    "resource_id = 'ab75c33d-3a26-4342-b36a-6e5fef0a3ac3'\n",
    "\n",
    "payload = {'apikey' : my_key, 'id' : resource_id}\n",
    "\n",
    "resp_coord = requests.get(url=url, params=payload)\n"
   ]
  },
  {
   "cell_type": "code",
   "execution_count": 99,
   "id": "731d0b8a-91e3-473c-b236-916f36721653",
   "metadata": {},
   "outputs": [],
   "source": [
    "for i in data_coord:\n",
    "    if len(i['values']) == 8:\n",
    "        if i['values'][0]['value'] not in coord_dict:\n",
    "            coord_dict[i['values'][0]['value']] = dict()\n",
    "    \n",
    "        coord_dict[i['values'][0]['value']][i['values'][1]['value']] = dict()\n",
    "        coord_dict[i['values'][0]['value']][i['values'][1]['value']]['lat'] = i['values'][4]['value']\n",
    "        coord_dict[i['values'][0]['value']][i['values'][1]['value']]['lon'] = i['values'][5]['value']\n",
    "    else:\n",
    "        print(i['values'])"
   ]
  },
  {
   "cell_type": "code",
   "execution_count": 100,
   "id": "bec87a70-90e9-464a-9315-74342c0d24ae",
   "metadata": {},
   "outputs": [
    {
     "data": {
      "text/plain": [
       "[{'value': '1001', 'key': 'zespol'},\n",
       " {'value': '01', 'key': 'slupek'},\n",
       " {'value': 'Kijowska', 'key': 'nazwa_zespolu'},\n",
       " {'value': '2201', 'key': 'id_ulicy'},\n",
       " {'value': '52.248455', 'key': 'szer_geo'},\n",
       " {'value': '21.044827', 'key': 'dlug_geo'},\n",
       " {'value': 'al.Zieleniecka', 'key': 'kierunek'},\n",
       " {'value': '2023-10-21 00:00:00.0', 'key': 'obowiazuje_od'}]"
      ]
     },
     "execution_count": 100,
     "metadata": {},
     "output_type": "execute_result"
    }
   ],
   "source": [
    "data_coord[0]['values']"
   ]
  },
  {
   "cell_type": "code",
   "execution_count": 103,
   "id": "0f9a4de3-ee13-4931-99c3-ddc9ba37b37e",
   "metadata": {},
   "outputs": [
    {
     "data": {
      "text/plain": [
       "{'4051': {'id': {'02': set()}},\n",
       " '4045': {'id': {'02': set()}},\n",
       " '4044': {'id': {'02': set()}},\n",
       " '4043': {'id': {'02': set()}},\n",
       " '4049': {'id': {'02': set()}},\n",
       " '4048': {'id': {'02': set()}},\n",
       " '4047': {'id': {'02': set()}},\n",
       " '4046': {'id': {'02': set()}},\n",
       " '4116': {'id': {'02': set()}},\n",
       " '4121': {'id': {'02': set()}},\n",
       " '4221': {'id': {'03': set(), '04': set()}},\n",
       " '4207': {'id': {'02': set()}},\n",
       " '4211': {'id': {'02': set()}},\n",
       " '4219': {'id': {'02': set()}},\n",
       " '4343': {'id': {'02': set()}},\n",
       " '4100': {'id': {'02': set()}},\n",
       " '4218': {'id': {'02': set()}},\n",
       " '4210': {'id': {'02': set()}},\n",
       " '4209': {'id': {'02': set()}},\n",
       " '4110': {'id': {'02': set()}},\n",
       " '4099': {'id': {'02': set()}},\n",
       " '4095': {'id': {'02': set()}},\n",
       " '4123': {'id': {'02': set()}},\n",
       " '4094': {'id': {'02': set()}},\n",
       " '4125': {'id': {'02': set()}},\n",
       " '4092': {'id': {'02': set()}},\n",
       " '4093': {'id': {'02': set()}},\n",
       " '4090': {'id': {'02': set()}},\n",
       " '4091': {'id': {'02': set()}},\n",
       " '4001': {'id': {'02': set()}},\n",
       " '4003': {'id': {'02': set()}},\n",
       " '7013': {'id': {'03': set(), '01': set()}},\n",
       " '7014': {'id': {'01': set()}},\n",
       " '7001': {'id': {'01': set()}},\n",
       " '7002': {'id': {'01': set()}},\n",
       " '4052': {'id': {'02': set()}},\n",
       " '4098': {'id': {'02': set()}},\n",
       " '4217': {'id': {'02': set()}},\n",
       " '4337': {'id': {'02': set()}},\n",
       " '4220': {'id': {'02': set()}},\n",
       " 'R-11': {'id': {'06': set()}}}"
      ]
     },
     "execution_count": 103,
     "metadata": {},
     "output_type": "execute_result"
    }
   ],
   "source": [
    "lines['N35']"
   ]
  },
  {
   "cell_type": "markdown",
   "id": "ca20a0bd-3b67-4533-aee5-6e4bd2439de1",
   "metadata": {
    "jp-MarkdownHeadingCollapsed": true
   },
   "source": [
    "#### Funkcje pomocnicze do punktualnosci"
   ]
  },
  {
   "cell_type": "code",
   "execution_count": 232,
   "id": "e10ab05c-02c2-4c90-aced-2bb20b94f2ba",
   "metadata": {},
   "outputs": [],
   "source": [
    "def get_all_times(response_data) -> list():\n",
    "    times = list()\n",
    "    curr_day = '2024-02-25'\n",
    "    \n",
    "    data = response_data\n",
    "\n",
    "    for entry in data:\n",
    "\n",
    "        correct_hour = fix_date(entry['values'][-1]['value'])\n",
    "        \n",
    "        strtime = curr_day + \" \" + correct_hour\n",
    "\n",
    "        dtime = dt.datetime.strptime(strtime, '%Y-%m-%d %H:%M:%S')\n",
    "        \n",
    "        if dtime.hour >= 0 and dtime.hour <= 2:\n",
    "            times.append(dtime)\n",
    "\n",
    "    return times"
   ]
  },
  {
   "cell_type": "code",
   "execution_count": 178,
   "id": "c04bb718-8bbc-4bb5-a9a7-8d673d803121",
   "metadata": {},
   "outputs": [],
   "source": [
    "def get_response(line, busstopId, busstopNr):\n",
    "    my_key = 'f7bce48b-6a00-4b56-879e-28f6cd90ec89'\n",
    "    resource_id = \"e923fa0e-d96c-43f9-ae6e-60518c9f3238\"\n",
    "\n",
    "    payload = {'id' : resource_id, 'busstopId' : busstopId, 'busstopNr' : busstopNr, 'line' : line, 'apikey' : my_key}\n",
    "    \n",
    "    url = \"https://api.um.warszawa.pl/api/action/dbtimetable_get\"\n",
    "    \n",
    "    response = requests.get(url=url, params=payload)\n",
    "\n",
    "    return response.json()['result']"
   ]
  },
  {
   "cell_type": "code",
   "execution_count": 320,
   "id": "e3fd2eaf-6b47-48e1-8768-4500c9e6a684",
   "metadata": {},
   "outputs": [
    {
     "data": {
      "text/plain": [
       "True"
      ]
     },
     "execution_count": 320,
     "metadata": {},
     "output_type": "execute_result"
    }
   ],
   "source": [
    "3 not in lines['N35']['4051']['id']['02']"
   ]
  },
  {
   "cell_type": "markdown",
   "id": "106de7fb-cac2-46aa-93f8-137abe005546",
   "metadata": {},
   "source": [
    "#### Analiza punktualnosci"
   ]
  },
  {
   "cell_type": "code",
   "execution_count": 425,
   "id": "a6fa82ea-0dad-4aed-adf5-5e05bb44dcdb",
   "metadata": {},
   "outputs": [],
   "source": [
    "def line_analyze(line):\n",
    "    stops = copy.deepcopy(lines[line])\n",
    "\n",
    "    line_coords_data = realistic_speed[realistic_speed['Line'] == line]\n",
    "\n",
    "    on_time = 0\n",
    "    delay = 0\n",
    "    already_visited = 0\n",
    "    \n",
    "    for stop_id in stops:\n",
    "        #print(\"  Analyzing stop \" + str(stop_id))\n",
    "        for pole_id in stops[stop_id]['id']:\n",
    "            \n",
    "\n",
    "            if pole_id in coord_dict[stop_id]:\n",
    "                #print(\"  Analyzing pole \" + str(pole_id))\n",
    "                pole_coords = coord_dict[stop_id][pole_id]\n",
    "                pole_lat = float(pole_coords['lat'])\n",
    "                pole_lon = float(pole_coords['lon'])\n",
    "                \n",
    "                response = get_response(line, stop_id, pole_id)\n",
    "    \n",
    "                if response == err_str:\n",
    "                    print(\"Error in stop_id retrieval for \" + str(stop_id) + \" \" + str(pole_id) + \" , retrying once more\")\n",
    "                    time.sleep(30)\n",
    "                    response = get_response(line, busstopId, busstopNr)\n",
    "    \n",
    "                if response != err_str:\n",
    "                    all_times = get_all_times(response)\n",
    "                    for index, row in  line_coords_data.iterrows():\n",
    "                        bus_lat = row['Lattitude']\n",
    "                        bus_lon = row['Longitude']\n",
    "                        if close(pole_lat, pole_lon, bus_lat, bus_lon):\n",
    "                            if timedatas_close(all_times, row['Time'], 70):\n",
    "                                if row['VehicleNumber'] not in stops[stop_id]['id'][pole_id]:\n",
    "                                    stops[stop_id]['id'][pole_id].add(row['VehicleNumber'])\n",
    "                                    on_time += 1\n",
    "                                \n",
    "                            else:\n",
    "                                if row['VehicleNumber'] not in stops[stop_id]['id'][pole_id]:\n",
    "                                    stops[stop_id]['id'][pole_id].add(row['VehicleNumber'])\n",
    "                                    delay += 1\n",
    "                                        \n",
    "\n",
    "                    time.sleep(0.5)\n",
    "                else:\n",
    "                    print(\"No response this time :( \")\n",
    "                    \n",
    "            \n",
    "                # print(\"  No pole \" + str(pole_id) + \" in dict of coordinates\")\n",
    "\n",
    "    return [on_time, delay, already_visited]"
   ]
  },
  {
   "cell_type": "code",
   "execution_count": 427,
   "id": "eaee112d-052f-4670-a336-131087e625af",
   "metadata": {},
   "outputs": [
    {
     "name": "stdout",
     "output_type": "stream",
     "text": [
      "[6, 12, 0]\n"
     ]
    }
   ],
   "source": [
    "print(n35_analysis)"
   ]
  },
  {
   "cell_type": "code",
   "execution_count": 426,
   "id": "f16734f0-058b-48ba-a399-1c43abc90700",
   "metadata": {},
   "outputs": [],
   "source": [
    "n35_analysis = line_analyze('N35')"
   ]
  },
  {
   "cell_type": "code",
   "execution_count": 430,
   "id": "fbb41da1-7ab4-496b-84fa-6fc036c1af56",
   "metadata": {},
   "outputs": [],
   "source": [
    "n32_analysis = line_analyze('N32')"
   ]
  },
  {
   "cell_type": "code",
   "execution_count": 431,
   "id": "78325475-783a-470c-9488-9069d311f400",
   "metadata": {},
   "outputs": [
    {
     "data": {
      "text/plain": [
       "[3, 10, 0]"
      ]
     },
     "execution_count": 431,
     "metadata": {},
     "output_type": "execute_result"
    }
   ],
   "source": [
    "n32_analysis"
   ]
  },
  {
   "cell_type": "code",
   "execution_count": 438,
   "id": "ce3dc833-120d-41b7-9561-0b7c44f990b4",
   "metadata": {},
   "outputs": [],
   "source": [
    "n64_analysis = line_analyze('N64')"
   ]
  },
  {
   "cell_type": "code",
   "execution_count": 432,
   "id": "2b9b8799-c3d1-4a6f-86d5-c340490e7b3f",
   "metadata": {},
   "outputs": [],
   "source": [
    "n43_analysis = line_analyze('N43')"
   ]
  },
  {
   "cell_type": "code",
   "execution_count": 433,
   "id": "37ed13cb-6512-4e25-a4a2-99406e99667b",
   "metadata": {},
   "outputs": [
    {
     "data": {
      "text/plain": [
       "[7, 10, 0]"
      ]
     },
     "execution_count": 433,
     "metadata": {},
     "output_type": "execute_result"
    }
   ],
   "source": [
    "n43_analysis"
   ]
  },
  {
   "cell_type": "markdown",
   "id": "4cda92b3-6def-43bd-8eda-92b3d16d4d77",
   "metadata": {},
   "source": [
    "#### Wykresy"
   ]
  },
  {
   "cell_type": "code",
   "execution_count": 439,
   "id": "5b55bf86-fc43-4896-b35f-d64714a03709",
   "metadata": {},
   "outputs": [
    {
     "data": {
      "image/png": "[encoded data removed]",
      "text/plain": [
       "<Figure size 640x480 with 1 Axes>"
      ]
     },
     "metadata": {},
     "output_type": "display_data"
    }
   ],
   "source": [
    "categories = ['N35', 'N32', 'N64', 'N43']\n",
    "values1 = [n35_analysis[0], n32_analysis[0], n64_analysis[0], n43_analysis[0]]\n",
    "values2 = [n35_analysis[1], n32_analysis[1], n64_analysis[1], n43_analysis[1]]\n",
    "\n",
    "\n",
    "bar_width = 0.35\n",
    "\n",
    "x = np.arange(len(categories))\n",
    "\n",
    "# Plot bars\n",
    "plt.bar(x - bar_width/2, values1, width=bar_width, label='Na czas')\n",
    "plt.bar(x + bar_width/2, values2, width=bar_width, label='Spoznione / Za wczesnie')\n",
    "\n",
    "# Add labels, title, and legend\n",
    "plt.xlabel('Linia')\n",
    "plt.ylabel('Ile autobusow')\n",
    "plt.title('Analiza punktualnosci')\n",
    "plt.xticks(x, categories)\n",
    "plt.legend()\n",
    "\n",
    "# Show plot\n",
    "plt.show()"
   ]
  },
  {
   "cell_type": "code",
   "execution_count": null,
   "id": "e2034ddd-fe50-44d3-8293-71004a59ab4f",
   "metadata": {},
   "outputs": [],
   "source": []
  }
 ],
 "metadata": {
  "kernelspec": {
   "display_name": "env_zaliczeniowe",
   "language": "python",
   "name": "env_zaliczeniowe"
  },
  "language_info": {
   "codemirror_mode": {
    "name": "ipython",
    "version": 3
   },
   "file_extension": ".py",
   "mimetype": "text/x-python",
   "name": "python",
   "nbconvert_exporter": "python",
   "pygments_lexer": "ipython3",
   "version": "3.11.3"
  }
 },
 "nbformat": 4,
 "nbformat_minor": 5
}
